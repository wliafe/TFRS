{
 "cells": [
  {
   "cell_type": "code",
   "execution_count": 1,
   "id": "79b7ed64719f09ff",
   "metadata": {
    "editable": true,
    "slideshow": {
     "slide_type": ""
    },
    "tags": []
   },
   "outputs": [],
   "source": [
    "import torch\n",
    "from torchvision import models, transforms\n",
    "from flask import Flask, request, jsonify, render_template\n",
    "from d2l import torch as d2l\n",
    "from TFRS import load_image_classification_data, evaluate_accuracy, image_classification_train, image_classification_test, image_classification_predict\n",
    "\n",
    "# 数据处理\n",
    "train_path = './data/TFRS/TFRS_train'\n",
    "test_path = './data/TFRS/TFRS_val'\n",
    "train_transform = transforms.Compose([\n",
    "    transforms.Resize((256, 256)),\n",
    "    transforms.ToTensor(),\n",
    "    transforms.ConvertImageDtype(torch.float32),\n",
    "    transforms.Normalize(mean=0.5, std=0.5)\n",
    "])\n",
    "test_transform = transforms.Compose([\n",
    "    transforms.Resize((256, 256)),\n",
    "    transforms.ToTensor(),\n",
    "    transforms.ConvertImageDtype(torch.float32),\n",
    "    transforms.Normalize(mean=0.5, std=0.5)\n",
    "])\n",
    "batch_size = 8\n",
    "num_workers = 0\n",
    "pin_memory = True\n",
    "train_iter = load_image_classification_data(train_path, train_transform, batch_size, num_workers, pin_memory)\n",
    "test_iter = load_image_classification_data(test_path, test_transform, batch_size, num_workers, pin_memory)\n",
    "labels = train_iter.dataset.classes\n",
    "# 神经网络\n",
    "net = models.resnet18(num_classes=len(labels))\n",
    "model_path = './model/TFRS_model.pth'\n",
    "# 设备\n",
    "device = d2l.try_gpu()"
   ]
  },
  {
   "cell_type": "code",
   "execution_count": null,
   "id": "ec60d96f482f14ca",
   "metadata": {},
   "outputs": [],
   "source": [
    "# 训练\n",
    "lr, num_epochs = 0.01, 3\n",
    "image_classification_train(net, train_iter, test_iter, num_epochs, lr, device)\n",
    "torch.save(net.state_dict(), model_path)"
   ]
  },
  {
   "cell_type": "code",
   "execution_count": null,
   "id": "9f8b2efa92875b1f",
   "metadata": {},
   "outputs": [],
   "source": [
    "# 测试\n",
    "net.load_state_dict(torch.load(model_path, map_location=device))\n",
    "image_classification_test(net, labels, test_iter, device)\n",
    "evaluate_accuracy(net, test_iter, device)"
   ]
  },
  {
   "cell_type": "code",
   "execution_count": null,
   "id": "5770a1b34e89d262",
   "metadata": {},
   "outputs": [],
   "source": [
    "# 预测\n",
    "app = Flask(__name__)\n",
    "net.load_state_dict(torch.load(model_path, weights_only=True, map_location=device))\n",
    "\n",
    "\n",
    "@app.route('/', methods=['GET'])\n",
    "def home():\n",
    "    return render_template('index.html')\n",
    "\n",
    "\n",
    "@app.route('/predict', methods=['POST'])\n",
    "def predict():\n",
    "    image = request.files['image']\n",
    "    predicted_class = image_classification_predict(net, labels, image, test_transform, device)\n",
    "    response = jsonify({'predicted_class': predicted_class})\n",
    "    response.headers['Access-Control-Allow-Origin'] = '*'\n",
    "    return response\n",
    "\n",
    "\n",
    "app.run()"
   ]
  }
 ],
 "metadata": {
  "kernelspec": {
   "display_name": "TFRS",
   "language": "python",
   "name": "python3"
  },
  "language_info": {
   "codemirror_mode": {
    "name": "ipython",
    "version": 3
   },
   "file_extension": ".py",
   "mimetype": "text/x-python",
   "name": "python",
   "nbconvert_exporter": "python",
   "pygments_lexer": "ipython3",
   "version": "3.10.16"
  },
  "widgets": {
   "application/vnd.jupyter.widget-state+json": {
    "state": {},
    "version_major": 2,
    "version_minor": 0
   }
  }
 },
 "nbformat": 4,
 "nbformat_minor": 5
}
