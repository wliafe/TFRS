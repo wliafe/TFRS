{
 "cells": [
  {
   "cell_type": "code",
   "id": "79b7ed64719f09ff",
   "metadata": {},
   "source": [
    "import torch\n",
    "import ML\n",
    "from TFRS import net, train_iter, test_iter, device, model_path\n",
    "\n",
    "# 训练\n",
    "lr, num_epochs = 0.01, 3\n",
    "train_loss, train_acc, test_acc = ML.image_classification_train(net, train_iter, test_iter, num_epochs, lr, device)\n",
    "torch.save(net.state_dict(), model_path)"
   ],
   "outputs": [],
   "execution_count": null
  },
  {
   "cell_type": "code",
   "id": "ec60d96f482f14ca",
   "metadata": {},
   "source": [
    "from TFRS import labels\n",
    "\n",
    "# 测试\n",
    "net.load_state_dict(torch.load(model_path, map_location=device))\n",
    "ML.image_classification_test(net, labels, test_iter, device)\n",
    "print(ML.evaluate_accuracy(net, test_iter, device))"
   ],
   "outputs": [],
   "execution_count": null
  },
  {
   "cell_type": "code",
   "id": "9f8b2efa92875b1f",
   "metadata": {},
   "source": [
    "# 预测\n",
    "from flask import Flask, request, jsonify\n",
    "from TFRS import test_transform\n",
    "\n",
    "app = Flask(__name__)\n",
    "net.load_state_dict(torch.load(model_path, map_location=device))\n",
    "net.to(device)\n",
    "\n",
    "\n",
    "@app.route('/predict', methods=['POST'])\n",
    "def predict():\n",
    "    image = request.files['image']\n",
    "    predicted_class = ML.image_classification_predict(net, labels, image, test_transform, device)\n",
    "    response = jsonify({'predicted_class': predicted_class})\n",
    "    response.headers['Access-Control-Allow-Origin'] = '*'\n",
    "    return response\n",
    "\n",
    "\n",
    "app.run()"
   ],
   "outputs": [],
   "execution_count": null
  }
 ],
 "metadata": {
  "kernelspec": {
   "display_name": "Python 3 (ipykernel)",
   "language": "python",
   "name": "python3"
  },
  "language_info": {
   "codemirror_mode": {
    "name": "ipython",
    "version": 3
   },
   "file_extension": ".py",
   "mimetype": "text/x-python",
   "name": "python",
   "nbconvert_exporter": "python",
   "pygments_lexer": "ipython3",
   "version": "3.8.0"
  }
 },
 "nbformat": 4,
 "nbformat_minor": 5
}
